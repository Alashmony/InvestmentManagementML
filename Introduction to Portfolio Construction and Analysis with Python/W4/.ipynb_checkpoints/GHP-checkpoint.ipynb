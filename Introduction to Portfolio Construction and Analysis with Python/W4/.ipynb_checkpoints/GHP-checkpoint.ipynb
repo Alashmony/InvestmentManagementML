{
 "cells": [
  {
   "cell_type": "markdown",
   "metadata": {},
   "source": [
    "# GHP Construction with Duration Matching"
   ]
  },
  {
   "cell_type": "code",
   "execution_count": 1,
   "metadata": {},
   "outputs": [],
   "source": [
    "import pandas as pd\n",
    "import numpy as np\n",
    "import ashmodule as ash\n",
    "%load_ext autoreload\n",
    "%autoreload 2\n",
    "%matplotlib inline"
   ]
  },
  {
   "cell_type": "code",
   "execution_count": 2,
   "metadata": {},
   "outputs": [
    {
     "data": {
      "text/plain": [
       "1      1.5\n",
       "2      1.5\n",
       "3      1.5\n",
       "4      1.5\n",
       "5      1.5\n",
       "6    101.5\n",
       "dtype: float64"
      ]
     },
     "execution_count": 2,
     "metadata": {},
     "output_type": "execute_result"
    }
   ],
   "source": [
    "ash.bond_cash_flows(3,100,0.03,2)"
   ]
  },
  {
   "cell_type": "code",
   "execution_count": 5,
   "metadata": {},
   "outputs": [
    {
     "data": {
      "text/plain": [
       "1136.7773962036904"
      ]
     },
     "execution_count": 5,
     "metadata": {},
     "output_type": "execute_result"
    }
   ],
   "source": [
    "ash.bond_price(20,1000,0.05,2,0.04)"
   ]
  },
  {
   "cell_type": "code",
   "execution_count": 6,
   "metadata": {},
   "outputs": [
    {
     "data": {
      "text/plain": [
       "1000.0000000000023"
      ]
     },
     "execution_count": 6,
     "metadata": {},
     "output_type": "execute_result"
    }
   ],
   "source": [
    "ash.bond_price(20,1000,0.05,2,0.05)"
   ]
  },
  {
   "cell_type": "code",
   "execution_count": 7,
   "metadata": {},
   "outputs": [
    {
     "data": {
      "text/plain": [
       "1492.520291709342"
      ]
     },
     "execution_count": 7,
     "metadata": {},
     "output_type": "execute_result"
    }
   ],
   "source": [
    "ash.bond_price(20,1000,0.05,2,0.02)"
   ]
  },
  {
   "cell_type": "code",
   "execution_count": 8,
   "metadata": {},
   "outputs": [
    {
     "data": {
      "text/plain": [
       "884.4261401289671"
      ]
     },
     "execution_count": 8,
     "metadata": {},
     "output_type": "execute_result"
    }
   ],
   "source": [
    "ash.bond_price(20,1000,0.05,2,0.06)"
   ]
  },
  {
   "cell_type": "code",
   "execution_count": 9,
   "metadata": {},
   "outputs": [
    {
     "data": {
      "text/plain": [
       "array([0.01      , 0.01473684, 0.01947368, 0.02421053, 0.02894737,\n",
       "       0.03368421, 0.03842105, 0.04315789, 0.04789474, 0.05263158,\n",
       "       0.05736842, 0.06210526, 0.06684211, 0.07157895, 0.07631579,\n",
       "       0.08105263, 0.08578947, 0.09052632, 0.09526316, 0.1       ])"
      ]
     },
     "execution_count": 9,
     "metadata": {},
     "output_type": "execute_result"
    }
   ],
   "source": [
    "rates = np.linspace(0.01, 0.10, num = 20)\n",
    "rates"
   ]
  },
  {
   "cell_type": "code",
   "execution_count": 11,
   "metadata": {},
   "outputs": [
    {
     "data": {
      "text/plain": [
       "[1379.7483829333992,\n",
       " 1326.7629283179222,\n",
       " 1276.1632981372743,\n",
       " 1227.833537616068,\n",
       " 1181.6636507727876,\n",
       " 1137.5492793724407,\n",
       " 1095.3913999300185,\n",
       " 1055.0960377089511,\n",
       " 1016.5739967228162,\n",
       " 979.7406048086303,\n",
       " 944.5154728963505,\n",
       " 910.8222676519945,\n",
       " 878.5884967212596,\n",
       " 847.74530584692,\n",
       " 818.2272871767957,\n",
       " 789.9722981198867,\n",
       " 762.9212901465673,\n",
       " 737.0181469646424,\n",
       " 712.209531536784,\n",
       " 688.4447414365]"
      ]
     },
     "execution_count": 11,
     "metadata": {},
     "output_type": "execute_result"
    }
   ],
   "source": [
    "prices = [ash.bond_price(10,1000,0.05,2, rate) for rate in rates]\n",
    "prices"
   ]
  },
  {
   "cell_type": "code",
   "execution_count": 14,
   "metadata": {},
   "outputs": [
    {
     "data": {
      "text/html": [
       "<div>\n",
       "<style scoped>\n",
       "    .dataframe tbody tr th:only-of-type {\n",
       "        vertical-align: middle;\n",
       "    }\n",
       "\n",
       "    .dataframe tbody tr th {\n",
       "        vertical-align: top;\n",
       "    }\n",
       "\n",
       "    .dataframe thead th {\n",
       "        text-align: right;\n",
       "    }\n",
       "</style>\n",
       "<table border=\"1\" class=\"dataframe\">\n",
       "  <thead>\n",
       "    <tr style=\"text-align: right;\">\n",
       "      <th></th>\n",
       "      <th>Prices</th>\n",
       "    </tr>\n",
       "  </thead>\n",
       "  <tbody>\n",
       "    <tr>\n",
       "      <th>0.010000</th>\n",
       "      <td>1379.748383</td>\n",
       "    </tr>\n",
       "    <tr>\n",
       "      <th>0.014737</th>\n",
       "      <td>1326.762928</td>\n",
       "    </tr>\n",
       "    <tr>\n",
       "      <th>0.019474</th>\n",
       "      <td>1276.163298</td>\n",
       "    </tr>\n",
       "    <tr>\n",
       "      <th>0.024211</th>\n",
       "      <td>1227.833538</td>\n",
       "    </tr>\n",
       "    <tr>\n",
       "      <th>0.028947</th>\n",
       "      <td>1181.663651</td>\n",
       "    </tr>\n",
       "    <tr>\n",
       "      <th>0.033684</th>\n",
       "      <td>1137.549279</td>\n",
       "    </tr>\n",
       "    <tr>\n",
       "      <th>0.038421</th>\n",
       "      <td>1095.391400</td>\n",
       "    </tr>\n",
       "    <tr>\n",
       "      <th>0.043158</th>\n",
       "      <td>1055.096038</td>\n",
       "    </tr>\n",
       "    <tr>\n",
       "      <th>0.047895</th>\n",
       "      <td>1016.573997</td>\n",
       "    </tr>\n",
       "    <tr>\n",
       "      <th>0.052632</th>\n",
       "      <td>979.740605</td>\n",
       "    </tr>\n",
       "    <tr>\n",
       "      <th>0.057368</th>\n",
       "      <td>944.515473</td>\n",
       "    </tr>\n",
       "    <tr>\n",
       "      <th>0.062105</th>\n",
       "      <td>910.822268</td>\n",
       "    </tr>\n",
       "    <tr>\n",
       "      <th>0.066842</th>\n",
       "      <td>878.588497</td>\n",
       "    </tr>\n",
       "    <tr>\n",
       "      <th>0.071579</th>\n",
       "      <td>847.745306</td>\n",
       "    </tr>\n",
       "    <tr>\n",
       "      <th>0.076316</th>\n",
       "      <td>818.227287</td>\n",
       "    </tr>\n",
       "    <tr>\n",
       "      <th>0.081053</th>\n",
       "      <td>789.972298</td>\n",
       "    </tr>\n",
       "    <tr>\n",
       "      <th>0.085789</th>\n",
       "      <td>762.921290</td>\n",
       "    </tr>\n",
       "    <tr>\n",
       "      <th>0.090526</th>\n",
       "      <td>737.018147</td>\n",
       "    </tr>\n",
       "    <tr>\n",
       "      <th>0.095263</th>\n",
       "      <td>712.209532</td>\n",
       "    </tr>\n",
       "    <tr>\n",
       "      <th>0.100000</th>\n",
       "      <td>688.444741</td>\n",
       "    </tr>\n",
       "  </tbody>\n",
       "</table>\n",
       "</div>"
      ],
      "text/plain": [
       "               Prices\n",
       "0.010000  1379.748383\n",
       "0.014737  1326.762928\n",
       "0.019474  1276.163298\n",
       "0.024211  1227.833538\n",
       "0.028947  1181.663651\n",
       "0.033684  1137.549279\n",
       "0.038421  1095.391400\n",
       "0.043158  1055.096038\n",
       "0.047895  1016.573997\n",
       "0.052632   979.740605\n",
       "0.057368   944.515473\n",
       "0.062105   910.822268\n",
       "0.066842   878.588497\n",
       "0.071579   847.745306\n",
       "0.076316   818.227287\n",
       "0.081053   789.972298\n",
       "0.085789   762.921290\n",
       "0.090526   737.018147\n",
       "0.095263   712.209532\n",
       "0.100000   688.444741"
      ]
     },
     "execution_count": 14,
     "metadata": {},
     "output_type": "execute_result"
    }
   ],
   "source": [
    "rates_prices = pd.DataFrame(data = prices, index = rates)\n",
    "rates_prices.columns = [\"Prices\"]\n",
    "rates_prices"
   ]
  },
  {
   "cell_type": "code",
   "execution_count": 18,
   "metadata": {},
   "outputs": [
    {
     "data": {
      "image/png": "[encoded data removed]",
      "text/plain": [
       "<Figure size 864x432 with 1 Axes>"
      ]
     },
     "metadata": {
      "needs_background": "light"
     },
     "output_type": "display_data"
    }
   ],
   "source": [
    "rates_prices.plot(figsize = (12,6), title = \"Price of 10 years bond with diff interest rates\", legend = False);"
   ]
  },
  {
   "cell_type": "markdown",
   "metadata": {},
   "source": [
    "## Calculating the Disounted Payback Period (Macaulay duration)\n",
    "\n",
    "Calculating time required to get your money back considering payments and other cashflows before principal payment\n",
    "\n",
    "* FV = 1000\n",
    "* I = 6%\n",
    "* N = 3 years\n",
    "* Simi-Annual payments\n",
    "\n"
   ]
  },
  {
   "cell_type": "code",
   "execution_count": 21,
   "metadata": {},
   "outputs": [
    {
     "data": {
      "text/plain": [
       "1      30.0\n",
       "2      30.0\n",
       "3      30.0\n",
       "4      30.0\n",
       "5      30.0\n",
       "6    1030.0\n",
       "dtype: float64"
      ]
     },
     "execution_count": 21,
     "metadata": {},
     "output_type": "execute_result"
    }
   ],
   "source": [
    "#clculate cash flows of the bond\n",
    "cf = ash.bond_cash_flows(3, 1000,0.06,2)\n",
    "cf"
   ]
  },
  {
   "cell_type": "code",
   "execution_count": 26,
   "metadata": {},
   "outputs": [
    {
     "data": {
      "text/plain": [
       "Float64Index([ 0.970873786407767, 0.9425959091337544, 0.9151416593531595,\n",
       "              0.8884870479156888, 0.8626087843841639, 0.8374842566836542],\n",
       "             dtype='float64')"
      ]
     },
     "execution_count": 26,
     "metadata": {},
     "output_type": "execute_result"
    }
   ],
   "source": [
    "#the discount rate for each period \n",
    "discounts = ash.discount(cf.index, 0.06/2)\n",
    "discounts"
   ]
  },
  {
   "cell_type": "code",
   "execution_count": 27,
   "metadata": {},
   "outputs": [
    {
     "data": {
      "text/plain": [
       "1     29.126214\n",
       "2     28.277877\n",
       "3     27.454250\n",
       "4     26.654611\n",
       "5     25.878264\n",
       "6    862.608784\n",
       "dtype: float64"
      ]
     },
     "execution_count": 27,
     "metadata": {},
     "output_type": "execute_result"
    }
   ],
   "source": [
    "#the discounted cash flows\n",
    "dcf = discounts*cf\n",
    "dcf"
   ]
  },
  {
   "cell_type": "code",
   "execution_count": 30,
   "metadata": {},
   "outputs": [
    {
     "data": {
      "text/plain": [
       "1    0.029126\n",
       "2    0.028278\n",
       "3    0.027454\n",
       "4    0.026655\n",
       "5    0.025878\n",
       "6    0.862609\n",
       "dtype: float64"
      ]
     },
     "execution_count": 30,
     "metadata": {},
     "output_type": "execute_result"
    }
   ],
   "source": [
    "# calculate the weight for each discounted cashflow\n",
    "weights = dcf/dcf.sum()\n",
    "weights"
   ]
  },
  {
   "cell_type": "code",
   "execution_count": 31,
   "metadata": {},
   "outputs": [
    {
     "data": {
      "text/plain": [
       "5.579707187194534"
      ]
     },
     "execution_count": 31,
     "metadata": {},
     "output_type": "execute_result"
    }
   ],
   "source": [
    "# get the macualay duration / discounted payback period\n",
    "dbp = (weights.index*weights).sum()\n",
    "dbp"
   ]
  },
  {
   "cell_type": "code",
   "execution_count": 33,
   "metadata": {},
   "outputs": [
    {
     "data": {
      "text/plain": [
       "5.579707187194534"
      ]
     },
     "execution_count": 33,
     "metadata": {},
     "output_type": "execute_result"
    }
   ],
   "source": [
    "ash.macaulay_duration(ash.bond_cash_flows(3,1000,0.06,2),0.06/2)"
   ]
  },
  {
   "cell_type": "markdown",
   "metadata": {},
   "source": [
    "## Duration Matching"
   ]
  },
  {
   "cell_type": "code",
   "execution_count": 38,
   "metadata": {},
   "outputs": [
    {
     "data": {
      "text/plain": [
       "10    100000\n",
       "12    100000\n",
       "dtype: int64"
      ]
     },
     "execution_count": 38,
     "metadata": {},
     "output_type": "execute_result"
    }
   ],
   "source": [
    "liabilities = pd.Series(data = [100000,100000],index = [10,12])\n",
    "liabilities"
   ]
  },
  {
   "cell_type": "code",
   "execution_count": 39,
   "metadata": {},
   "outputs": [
    {
     "data": {
      "text/plain": [
       "10.960799385088393"
      ]
     },
     "execution_count": 39,
     "metadata": {},
     "output_type": "execute_result"
    }
   ],
   "source": [
    "ash.macaulay_duration(liabilities,0.04)"
   ]
  },
  {
   "cell_type": "code",
   "execution_count": 41,
   "metadata": {},
   "outputs": [],
   "source": [
    "md_10 = ash.macaulay_duration(ash.bond_cash_flows(10,1000,0.05,1), 0.04)\n",
    "md_20 = ash.macaulay_duration(ash.bond_cash_flows(20,1000,0.05,1), 0.04)"
   ]
  },
  {
   "cell_type": "code",
   "execution_count": 42,
   "metadata": {},
   "outputs": [
    {
     "data": {
      "text/plain": [
       "(8.190898824083233, 13.544718122145921)"
      ]
     },
     "execution_count": 42,
     "metadata": {},
     "output_type": "execute_result"
    }
   ],
   "source": [
    "md_10, md_20"
   ]
  },
  {
   "cell_type": "markdown",
   "metadata": {},
   "source": [
    "Therefore, we need to hold a portfolio of these two bonds that has a combined target duration that matches the duration of the liability, which is given by the following expression, where $w_s$ is the weight in the short duration bond whcih has duration $d_s$ and the duration of the longer bond is $d_l$. We designate the targeted duration as $d_t$.\n",
    "\n",
    "In our case, the fraction in the short duration asset $w_s$ should be such that:\n",
    "\n",
    "$$ w_s \\times 8.19 + (1-w_s) \\times 13.54 = 10.96 $$\n",
    "\n",
    "more generally:\n",
    "\n",
    "$$ w_s \\times d_s + (1-w_s) \\times d_l = d_t $$\n",
    "\n",
    "rearranging gives:\n",
    "\n",
    "$$ w_s = \\frac{d_l -d_t}{d_l - d_s} $$\n",
    "\n"
   ]
  },
  {
   "cell_type": "code",
   "execution_count": 44,
   "metadata": {},
   "outputs": [
    {
     "data": {
      "text/plain": [
       "0.48263092069478974"
      ]
     },
     "execution_count": 44,
     "metadata": {},
     "output_type": "execute_result"
    }
   ],
   "source": [
    "# cash flows for long bond and short bond\n",
    "short_bond = ash.bond_cash_flows(10,1000,0.05,1)\n",
    "long_bond = ash.bond_cash_flows(20,1000,0.05,1)\n",
    "# weight of short bond in the portfolio \n",
    "w_s = ash.match_durations(liabilities,short_bond,long_bond,0.04)\n",
    "w_s"
   ]
  },
  {
   "cell_type": "code",
   "execution_count": 46,
   "metadata": {},
   "outputs": [
    {
     "data": {
      "text/plain": [
       "0.5173690793052103"
      ]
     },
     "execution_count": 46,
     "metadata": {},
     "output_type": "execute_result"
    }
   ],
   "source": [
    "# wight of long bond\n",
    "w_l = 1-w_s\n",
    "w_l"
   ]
  },
  {
   "cell_type": "code",
   "execution_count": 54,
   "metadata": {},
   "outputs": [
    {
     "data": {
      "text/plain": [
       "10.960799385088393"
      ]
     },
     "execution_count": 54,
     "metadata": {},
     "output_type": "execute_result"
    }
   ],
   "source": [
    "# price for each bond\n",
    "p_short = ash.bond_price(10,1000,0.05,1,0.04)\n",
    "p_long = ash.bond_price(20,1000,0.05,1,0.04)\n",
    " \n",
    "# initial investment (asset at time 0) 130K\n",
    "a_0 = 130000\n",
    "\n",
    "# Calculate cash flows from the whole portfolio which is:\n",
    "# the initial ivestment * weight of each asset * cash flows from the asset / price of the asset\n",
    "p_flows = pd.concat([a_0*w_s*short_bond/p_short,\n",
    "                     a_0*w_l*long_bond/p_long])\n",
    "ash.macaulay_duration(p_flows,0.04)"
   ]
  },
  {
   "cell_type": "code",
   "execution_count": 58,
   "metadata": {},
   "outputs": [
    {
     "data": {
      "text/plain": [
       "1      2901.743586\n",
       "2      2901.743586\n",
       "3      2901.743586\n",
       "4      2901.743586\n",
       "5      2901.743586\n",
       "6      2901.743586\n",
       "7      2901.743586\n",
       "8      2901.743586\n",
       "9      2901.743586\n",
       "10    60936.615315\n",
       "1      2960.550536\n",
       "2      2960.550536\n",
       "3      2960.550536\n",
       "4      2960.550536\n",
       "5      2960.550536\n",
       "6      2960.550536\n",
       "7      2960.550536\n",
       "8      2960.550536\n",
       "9      2960.550536\n",
       "10     2960.550536\n",
       "11     2960.550536\n",
       "12     2960.550536\n",
       "13     2960.550536\n",
       "14     2960.550536\n",
       "15     2960.550536\n",
       "16     2960.550536\n",
       "17     2960.550536\n",
       "18     2960.550536\n",
       "19     2960.550536\n",
       "20    62171.561257\n",
       "dtype: float64"
      ]
     },
     "execution_count": 58,
     "metadata": {},
     "output_type": "execute_result"
    }
   ],
   "source": [
    "p_flows"
   ]
  },
  {
   "cell_type": "code",
   "execution_count": 55,
   "metadata": {},
   "outputs": [
    {
     "data": {
      "text/plain": [
       "10.960799385088393"
      ]
     },
     "execution_count": 55,
     "metadata": {},
     "output_type": "execute_result"
    }
   ],
   "source": [
    "ash.macaulay_duration(liabilities,0.04)"
   ]
  },
  {
   "cell_type": "code",
   "execution_count": 57,
   "metadata": {},
   "outputs": [
    {
     "data": {
      "text/plain": [
       "True"
      ]
     },
     "execution_count": 57,
     "metadata": {},
     "output_type": "execute_result"
    }
   ],
   "source": [
    "# the macaulay duration of assets and liabs\n",
    "ash.macaulay_duration(p_flows,0.04) == ash.macaulay_duration(liabilities,0.04)"
   ]
  },
  {
   "cell_type": "code",
   "execution_count": 60,
   "metadata": {},
   "outputs": [
    {
     "data": {
      "text/plain": [
       "0.9998760012192478"
      ]
     },
     "execution_count": 60,
     "metadata": {},
     "output_type": "execute_result"
    }
   ],
   "source": [
    "# Find funding ratio\n",
    "cfr = ash.funding_ratio(p_flows, liabilities, 0.04)\n",
    "cfr"
   ]
  },
  {
   "cell_type": "markdown",
   "metadata": {},
   "source": [
    "### Changes in funding ratios for each bond type vs the Matched portfolio"
   ]
  },
  {
   "cell_type": "code",
   "execution_count": 66,
   "metadata": {},
   "outputs": [
    {
     "data": {
      "image/png": "[encoded data removed]",
      "text/plain": [
       "<Figure size 864x504 with 1 Axes>"
      ]
     },
     "metadata": {
      "needs_background": "light"
     },
     "output_type": "display_data"
    }
   ],
   "source": [
    "# group of interest rates\n",
    "rates = np.linspace(0,0.1,20)\n",
    "\n",
    "# a Long-term assset Portfolio without short-term assets\n",
    "lb_asset = a_0*long_bond/p_long\n",
    "# a Short-term assset Portfolio without long-term assets\n",
    "sb_asset = a_0*short_bond/p_short\n",
    "\n",
    "# Calculate Funding ratios for different interest rates and store it in df\n",
    "fr_changes = pd.DataFrame({\n",
    "    \"Long Bond\": [ash.funding_ratio(lb_asset,liabilities,rate) for rate in rates],\n",
    "    \"Short Bond\": [ash.funding_ratio(sb_asset,liabilities,r) for r in rates],\n",
    "    \"Duration Matched Bonds\" : [ash.funding_ratio(p_flows,liabilities,r) for r in rates]\n",
    "}, index = rates)\n",
    "\n",
    "# plot to see changes\n",
    "fr_changes.plot(title = \"Funding Ratio with changes in Interest Rates\",figsize =(12,7));"
   ]
  },
  {
   "cell_type": "code",
   "execution_count": null,
   "metadata": {},
   "outputs": [],
   "source": []
  }
 ],
 "metadata": {
  "kernelspec": {
   "display_name": "Python 3",
   "language": "python",
   "name": "python3"
  },
  "language_info": {
   "codemirror_mode": {
    "name": "ipython",
    "version": 3
   },
   "file_extension": ".py",
   "mimetype": "text/x-python",
   "name": "python",
   "nbconvert_exporter": "python",
   "pygments_lexer": "ipython3",
   "version": "3.7.6"
  }
 },
 "nbformat": 4,
 "nbformat_minor": 4
}
