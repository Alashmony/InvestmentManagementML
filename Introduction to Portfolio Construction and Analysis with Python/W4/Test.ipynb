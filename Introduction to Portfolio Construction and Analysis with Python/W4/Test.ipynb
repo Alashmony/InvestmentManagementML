{
 "cells": [
  {
   "cell_type": "markdown",
   "metadata": {},
   "source": [
    "We will be working with three bonds:\n",
    "* B1 is a 15 Year Bond with a Face Value of USD 1000 that pays a 5 percent coupon semi-annually (2 times a year)\n",
    "* B2 is a 5 Year Bond with a Face value of USD 1000 that pays a 6 percent coupon quarterly (4 times a year)\n",
    "* B3 is a 10 Year Zero-Coupon Bond with a Face Value of USD 1000 \n",
    "\n",
    "-- Hint: you can still use the ash.bond_cash_flows() and ash.bond_price() by setting the coupon amount to 0 percent and the coupons_per_year to 1)\n",
    "Assume the yield curve is flat at 5 percent."
   ]
  },
  {
   "cell_type": "code",
   "execution_count": 1,
   "metadata": {},
   "outputs": [],
   "source": [
    "import ashmodule as ash\n",
    "import pandas as pd\n",
    "import numpy as np\n",
    "import matplotlib as plt\n",
    "\n",
    "%load_ext autoreload\n",
    "%autoreload 2\n",
    "%matplotlib inline"
   ]
  },
  {
   "cell_type": "code",
   "execution_count": 2,
   "metadata": {},
   "outputs": [
    {
     "name": "stdout",
     "output_type": "stream",
     "text": [
      "0    1000.0\n",
      "dtype: float64 \n",
      " 0    1043.99829\n",
      "dtype: float64 \n",
      " 0    613.913254\n",
      "dtype: float64\n"
     ]
    }
   ],
   "source": [
    "b1_price = ash.bond_price(15,principal=1000,coupon_rate=0.05,coupons_per_year=2,discount_rate=0.05)\n",
    "b2_price = ash.bond_price(5,principal=1000,coupon_rate=0.06,coupons_per_year=4,discount_rate=0.05)\n",
    "b3_price = ash.bond_price(10,principal=1000,coupon_rate=0,coupons_per_year=1,discount_rate=0.05)\n",
    "print(b1_price,\"\\n\",b2_price,\"\\n\",b3_price)"
   ]
  },
  {
   "cell_type": "code",
   "execution_count": 3,
   "metadata": {},
   "outputs": [],
   "source": [
    "b1_cf = ash.bond_cash_flows(15,principal=1000,coupon_rate=0.05,coupons_per_year=2)\n",
    "b2_cf = ash.bond_cash_flows(5,principal=1000,coupon_rate=0.06,coupons_per_year=4)\n",
    "b3_cf = ash.bond_cash_flows(10,principal=1000,coupon_rate=0,coupons_per_year=1)"
   ]
  },
  {
   "cell_type": "code",
   "execution_count": 19,
   "metadata": {},
   "outputs": [
    {
     "name": "stdout",
     "output_type": "stream",
     "text": [
      "18.74518415380995 \n",
      " 16.32082218369695 \n",
      " 10.0\n"
     ]
    }
   ],
   "source": [
    "import erk\n",
    "b1_md = erk.macaulay_duration(b1_cf,0.05)\n",
    "b2_md = erk.macaulay_duration(b2_cf,0.05)\n",
    "b3_md = erk.macaulay_duration(b3_cf,0.05)\n",
    "print(b1_md,\"\\n\",b2_md,\"\\n\",b3_md)"
   ]
  },
  {
   "cell_type": "code",
   "execution_count": 11,
   "metadata": {},
   "outputs": [
    {
     "data": {
      "text/plain": [
       "3     100000\n",
       "5     200000\n",
       "10    300000\n",
       "dtype: int64"
      ]
     },
     "execution_count": 11,
     "metadata": {},
     "output_type": "execute_result"
    }
   ],
   "source": [
    "liabilities = pd.Series(data = [100000,200000,300000],index = [3,5,10])\n",
    "liabilities"
   ]
  },
  {
   "cell_type": "code",
   "execution_count": 16,
   "metadata": {},
   "outputs": [
    {
     "data": {
      "text/plain": [
       "6.750917852744651"
      ]
     },
     "execution_count": 16,
     "metadata": {},
     "output_type": "execute_result"
    }
   ],
   "source": [
    "liab_md = erk.macaulay_duration(liabilities,0.05)\n",
    "liab_md"
   ]
  },
  {
   "cell_type": "code",
   "execution_count": 20,
   "metadata": {},
   "outputs": [
    {
     "data": {
      "text/plain": [
       "-3.9473908801276245"
      ]
     },
     "execution_count": 20,
     "metadata": {},
     "output_type": "execute_result"
    }
   ],
   "source": [
    "(b2_md - liab_md)/(b2_md - b1_md)"
   ]
  },
  {
   "cell_type": "code",
   "execution_count": 21,
   "metadata": {},
   "outputs": [
    {
     "data": {
      "text/plain": [
       "-0.514028405297586"
      ]
     },
     "execution_count": 21,
     "metadata": {},
     "output_type": "execute_result"
    }
   ],
   "source": [
    "(b3_md - liab_md)/(b3_md - b2_md)"
   ]
  },
  {
   "cell_type": "code",
   "execution_count": 46,
   "metadata": {},
   "outputs": [
    {
     "data": {
      "text/plain": [
       "-2.7126949141880514"
      ]
     },
     "execution_count": 46,
     "metadata": {},
     "output_type": "execute_result"
    }
   ],
   "source": [
    "def macaulay_duration(flows, discount_rate,coupons_per_year = 1):\n",
    "    \"\"\"\n",
    "    Computes the Macaulay Duration of a sequence of cash flows, given a per-period discount rate\n",
    "    \"\"\"\n",
    "    discount_rate = discount_rate/coupons_per_year\n",
    "    discounted_flows = erk.discount(flows.index, discount_rate)*pd.DataFrame(flows)\n",
    "    weights = discounted_flows/discounted_flows.sum()\n",
    "    return np.average(flows.index, weights=weights.iloc[:,0])\n",
    "\n",
    "def match_durations(cf_liab, cf_short,cf_long,discount_rate, short_c_per_year = 2, long_c_per_year = 4):\n",
    "    \"\"\"\n",
    "    Returns the weight W in cf_s that, along with (1-W) in cf_l will have an effective\n",
    "    duration that matches cf_t\n",
    "    \"\"\"\n",
    "    d_liab = macaulay_duration(cf_liab, discount_rate)\n",
    "    d_short = macaulay_duration(cf_short, discount_rate,coupons_per_year=short_c_per_year)\n",
    "    d_long =  macaulay_duration(cf_long, discount_rate,coupons_per_year= long_c_per_year)\n",
    "    return (d_long - d_liab)/(d_long - d_short)\n",
    "\n",
    "match_durations(liabilities,cf_short=b1_cf,cf_long=b2_cf,discount_rate=0.05)\n"
   ]
  },
  {
   "cell_type": "code",
   "execution_count": 35,
   "metadata": {},
   "outputs": [
    {
     "data": {
      "text/plain": [
       "-3.529650253207068"
      ]
     },
     "execution_count": 35,
     "metadata": {},
     "output_type": "execute_result"
    }
   ],
   "source": [
    "(-0.514028405297586*b2_md)+((1-0.514028405297586)*b3_md)"
   ]
  },
  {
   "cell_type": "code",
   "execution_count": 47,
   "metadata": {},
   "outputs": [
    {
     "data": {
      "text/plain": [
       "-0.45494144499856126"
      ]
     },
     "execution_count": 47,
     "metadata": {},
     "output_type": "execute_result"
    }
   ],
   "source": [
    "match_durations(liabilities,cf_short=b2_cf,cf_long=b3_cf,discount_rate=0.05)"
   ]
  },
  {
   "cell_type": "code",
   "execution_count": 67,
   "metadata": {},
   "outputs": [],
   "source": [
    "def macaulay_duration(flows, discount_rate,coupons_per_year = 1):\n",
    "    \"\"\"\n",
    "    Computes the Macaulay Duration of a sequence of cash flows, given a per-period discount rate\n",
    "    \"\"\"\n",
    "    discount_rate = discount_rate/coupons_per_year\n",
    "    \n",
    "    discounted_flows = erk.discount(flows.index, discount_rate)*pd.DataFrame(flows)\n",
    "    weights = discounted_flows/discounted_flows.sum()\n",
    "    return (np.average(flows.index, weights=weights.iloc[:,0]))/coupons_per_year"
   ]
  },
  {
   "cell_type": "code",
   "execution_count": 68,
   "metadata": {},
   "outputs": [
    {
     "name": "stdout",
     "output_type": "stream",
     "text": [
      "10.72677495379012 \n",
      " 4.373363222636413 \n",
      " 10.0\n"
     ]
    }
   ],
   "source": [
    "\n",
    "b1_md = macaulay_duration(b1_cf,0.05,coupons_per_year=2)\n",
    "b2_md = macaulay_duration(b2_cf,0.05,coupons_per_year=4)\n",
    "b3_md = macaulay_duration(b3_cf,0.05,coupons_per_year=1)\n",
    "print(b1_md,\"\\n\",b2_md,\"\\n\",b3_md)"
   ]
  },
  {
   "cell_type": "code",
   "execution_count": 69,
   "metadata": {},
   "outputs": [],
   "source": [
    "def match_durations(cf_liab, cf_short,cf_long,discount_rate, short_c_per_year = 4, long_c_per_year = 2):\n",
    "    \"\"\"\n",
    "    Returns the weight W in cf_s that, along with (1-W) in cf_l will have an effective\n",
    "    duration that matches cf_t\n",
    "    \"\"\"\n",
    "    d_liab = macaulay_duration(cf_liab, discount_rate)\n",
    "    d_short = macaulay_duration(cf_short, discount_rate,coupons_per_year=short_c_per_year)\n",
    "    d_long =  macaulay_duration(cf_long, discount_rate,coupons_per_year= long_c_per_year)\n",
    "    return (d_long - d_liab)/(d_long - d_short)"
   ]
  },
  {
   "cell_type": "code",
   "execution_count": 83,
   "metadata": {},
   "outputs": [
    {
     "data": {
      "text/plain": [
       "62.58"
      ]
     },
     "execution_count": 83,
     "metadata": {},
     "output_type": "execute_result"
    }
   ],
   "source": [
    "por_2for1 = match_durations(liabilities,cf_short=b2_cf,cf_long=b1_cf,discount_rate=0.05,short_c_per_year = 4, long_c_per_year = 2)\n",
    "round(por_2for1*100,2)"
   ]
  },
  {
   "cell_type": "code",
   "execution_count": 78,
   "metadata": {},
   "outputs": [
    {
     "data": {
      "text/plain": [
       "0.37421699249396856"
      ]
     },
     "execution_count": 78,
     "metadata": {},
     "output_type": "execute_result"
    }
   ],
   "source": [
    "por_1for2 = 1-por_2for1\n",
    "por_1for2"
   ]
  },
  {
   "cell_type": "code",
   "execution_count": 79,
   "metadata": {},
   "outputs": [
    {
     "data": {
      "text/plain": [
       "True"
      ]
     },
     "execution_count": 79,
     "metadata": {},
     "output_type": "execute_result"
    }
   ],
   "source": [
    "por_2for1*b2_md + por_1for2*b1_md == liab_md"
   ]
  },
  {
   "cell_type": "code",
   "execution_count": 81,
   "metadata": {},
   "outputs": [
    {
     "data": {
      "text/plain": [
       "57.74"
      ]
     },
     "execution_count": 81,
     "metadata": {},
     "output_type": "execute_result"
    }
   ],
   "source": [
    "round(match_durations(liabilities,cf_short=b2_cf,cf_long=b3_cf,discount_rate=0.05,short_c_per_year = 4, long_c_per_year = 1)*100,2)"
   ]
  },
  {
   "cell_type": "code",
   "execution_count": null,
   "metadata": {},
   "outputs": [],
   "source": []
  }
 ],
 "metadata": {
  "kernelspec": {
   "display_name": "Python 3",
   "language": "python",
   "name": "python3"
  },
  "language_info": {
   "codemirror_mode": {
    "name": "ipython",
    "version": 3
   },
   "file_extension": ".py",
   "mimetype": "text/x-python",
   "name": "python",
   "nbconvert_exporter": "python",
   "pygments_lexer": "ipython3",
   "version": "3.7.6"
  }
 },
 "nbformat": 4,
 "nbformat_minor": 4
}
