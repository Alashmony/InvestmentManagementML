{
 "cells": [
  {
   "cell_type": "markdown",
   "metadata": {},
   "source": [
    "# Cpital Markert Line"
   ]
  },
  {
   "cell_type": "code",
   "execution_count": 1,
   "metadata": {},
   "outputs": [],
   "source": [
    "import pandas as pd\n",
    "import numpy as np \n",
    "import ashmodule as ash\n",
    "%matplotlib inline\n",
    "%load_ext autoreload\n",
    "%autoreload 2"
   ]
  },
  {
   "cell_type": "code",
   "execution_count": 72,
   "metadata": {},
   "outputs": [],
   "source": [
    "ind = ash.get_hfi_returns()[\"2000\":]\n",
    "er = ash.annualize_rets(ind,12)\n",
    "cov = ind.cov()"
   ]
  },
  {
   "cell_type": "code",
   "execution_count": 73,
   "metadata": {},
   "outputs": [
    {
     "data": {
      "text/html": [
       "<div>\n",
       "<style scoped>\n",
       "    .dataframe tbody tr th:only-of-type {\n",
       "        vertical-align: middle;\n",
       "    }\n",
       "\n",
       "    .dataframe tbody tr th {\n",
       "        vertical-align: top;\n",
       "    }\n",
       "\n",
       "    .dataframe thead th {\n",
       "        text-align: right;\n",
       "    }\n",
       "</style>\n",
       "<table border=\"1\" class=\"dataframe\">\n",
       "  <thead>\n",
       "    <tr style=\"text-align: right;\">\n",
       "      <th></th>\n",
       "      <th>Convertible Arbitrage</th>\n",
       "      <th>CTA Global</th>\n",
       "      <th>Distressed Securities</th>\n",
       "      <th>Emerging Markets</th>\n",
       "      <th>Equity Market Neutral</th>\n",
       "      <th>Event Driven</th>\n",
       "      <th>Fixed Income Arbitrage</th>\n",
       "      <th>Global Macro</th>\n",
       "      <th>Long/Short Equity</th>\n",
       "      <th>Merger Arbitrage</th>\n",
       "      <th>Relative Value</th>\n",
       "      <th>Short Selling</th>\n",
       "      <th>Funds Of Funds</th>\n",
       "    </tr>\n",
       "    <tr>\n",
       "      <th>date</th>\n",
       "      <th></th>\n",
       "      <th></th>\n",
       "      <th></th>\n",
       "      <th></th>\n",
       "      <th></th>\n",
       "      <th></th>\n",
       "      <th></th>\n",
       "      <th></th>\n",
       "      <th></th>\n",
       "      <th></th>\n",
       "      <th></th>\n",
       "      <th></th>\n",
       "      <th></th>\n",
       "    </tr>\n",
       "  </thead>\n",
       "  <tbody>\n",
       "    <tr>\n",
       "      <th>2000-01</th>\n",
       "      <td>0.0227</td>\n",
       "      <td>0.0128</td>\n",
       "      <td>0.0088</td>\n",
       "      <td>0.0077</td>\n",
       "      <td>0.0075</td>\n",
       "      <td>0.0088</td>\n",
       "      <td>0.0041</td>\n",
       "      <td>0.0021</td>\n",
       "      <td>0.0075</td>\n",
       "      <td>0.0143</td>\n",
       "      <td>0.0173</td>\n",
       "      <td>0.0427</td>\n",
       "      <td>0.0169</td>\n",
       "    </tr>\n",
       "    <tr>\n",
       "      <th>2000-02</th>\n",
       "      <td>0.0267</td>\n",
       "      <td>-0.0022</td>\n",
       "      <td>0.0421</td>\n",
       "      <td>0.0528</td>\n",
       "      <td>0.0253</td>\n",
       "      <td>0.0346</td>\n",
       "      <td>0.0097</td>\n",
       "      <td>0.0408</td>\n",
       "      <td>0.0699</td>\n",
       "      <td>0.0239</td>\n",
       "      <td>0.0185</td>\n",
       "      <td>-0.1340</td>\n",
       "      <td>0.0666</td>\n",
       "    </tr>\n",
       "    <tr>\n",
       "      <th>2000-03</th>\n",
       "      <td>0.0243</td>\n",
       "      <td>-0.0138</td>\n",
       "      <td>0.0103</td>\n",
       "      <td>0.0318</td>\n",
       "      <td>0.0134</td>\n",
       "      <td>0.0069</td>\n",
       "      <td>-0.0061</td>\n",
       "      <td>-0.0104</td>\n",
       "      <td>0.0006</td>\n",
       "      <td>0.0131</td>\n",
       "      <td>0.0163</td>\n",
       "      <td>-0.0230</td>\n",
       "      <td>0.0039</td>\n",
       "    </tr>\n",
       "    <tr>\n",
       "      <th>2000-04</th>\n",
       "      <td>0.0223</td>\n",
       "      <td>-0.0241</td>\n",
       "      <td>-0.0101</td>\n",
       "      <td>-0.0541</td>\n",
       "      <td>0.0168</td>\n",
       "      <td>-0.0059</td>\n",
       "      <td>-0.0006</td>\n",
       "      <td>-0.0304</td>\n",
       "      <td>-0.0201</td>\n",
       "      <td>0.0188</td>\n",
       "      <td>0.0092</td>\n",
       "      <td>0.1028</td>\n",
       "      <td>-0.0269</td>\n",
       "    </tr>\n",
       "    <tr>\n",
       "      <th>2000-05</th>\n",
       "      <td>0.0149</td>\n",
       "      <td>0.0114</td>\n",
       "      <td>-0.0132</td>\n",
       "      <td>-0.0433</td>\n",
       "      <td>0.0062</td>\n",
       "      <td>-0.0034</td>\n",
       "      <td>0.0107</td>\n",
       "      <td>-0.0070</td>\n",
       "      <td>-0.0097</td>\n",
       "      <td>0.0146</td>\n",
       "      <td>0.0080</td>\n",
       "      <td>0.0704</td>\n",
       "      <td>-0.0122</td>\n",
       "    </tr>\n",
       "  </tbody>\n",
       "</table>\n",
       "</div>"
      ],
      "text/plain": [
       "         Convertible Arbitrage  CTA Global  Distressed Securities  \\\n",
       "date                                                                \n",
       "2000-01                 0.0227      0.0128                 0.0088   \n",
       "2000-02                 0.0267     -0.0022                 0.0421   \n",
       "2000-03                 0.0243     -0.0138                 0.0103   \n",
       "2000-04                 0.0223     -0.0241                -0.0101   \n",
       "2000-05                 0.0149      0.0114                -0.0132   \n",
       "\n",
       "         Emerging Markets  Equity Market Neutral  Event Driven  \\\n",
       "date                                                             \n",
       "2000-01            0.0077                 0.0075        0.0088   \n",
       "2000-02            0.0528                 0.0253        0.0346   \n",
       "2000-03            0.0318                 0.0134        0.0069   \n",
       "2000-04           -0.0541                 0.0168       -0.0059   \n",
       "2000-05           -0.0433                 0.0062       -0.0034   \n",
       "\n",
       "         Fixed Income Arbitrage  Global Macro  Long/Short Equity  \\\n",
       "date                                                               \n",
       "2000-01                  0.0041        0.0021             0.0075   \n",
       "2000-02                  0.0097        0.0408             0.0699   \n",
       "2000-03                 -0.0061       -0.0104             0.0006   \n",
       "2000-04                 -0.0006       -0.0304            -0.0201   \n",
       "2000-05                  0.0107       -0.0070            -0.0097   \n",
       "\n",
       "         Merger Arbitrage  Relative Value  Short Selling  Funds Of Funds  \n",
       "date                                                                      \n",
       "2000-01            0.0143          0.0173         0.0427          0.0169  \n",
       "2000-02            0.0239          0.0185        -0.1340          0.0666  \n",
       "2000-03            0.0131          0.0163        -0.0230          0.0039  \n",
       "2000-04            0.0188          0.0092         0.1028         -0.0269  \n",
       "2000-05            0.0146          0.0080         0.0704         -0.0122  "
      ]
     },
     "execution_count": 73,
     "metadata": {},
     "output_type": "execute_result"
    }
   ],
   "source": [
    "ind.head()"
   ]
  },
  {
   "cell_type": "code",
   "execution_count": 74,
   "metadata": {},
   "outputs": [
    {
     "data": {
      "text/html": [
       "<div>\n",
       "<style scoped>\n",
       "    .dataframe tbody tr th:only-of-type {\n",
       "        vertical-align: middle;\n",
       "    }\n",
       "\n",
       "    .dataframe tbody tr th {\n",
       "        vertical-align: top;\n",
       "    }\n",
       "\n",
       "    .dataframe thead th {\n",
       "        text-align: right;\n",
       "    }\n",
       "</style>\n",
       "<table border=\"1\" class=\"dataframe\">\n",
       "  <thead>\n",
       "    <tr style=\"text-align: right;\">\n",
       "      <th></th>\n",
       "      <th>Convertible Arbitrage</th>\n",
       "      <th>CTA Global</th>\n",
       "      <th>Distressed Securities</th>\n",
       "      <th>Emerging Markets</th>\n",
       "      <th>Equity Market Neutral</th>\n",
       "      <th>Event Driven</th>\n",
       "      <th>Fixed Income Arbitrage</th>\n",
       "      <th>Global Macro</th>\n",
       "      <th>Long/Short Equity</th>\n",
       "      <th>Merger Arbitrage</th>\n",
       "      <th>Relative Value</th>\n",
       "      <th>Short Selling</th>\n",
       "      <th>Funds Of Funds</th>\n",
       "    </tr>\n",
       "    <tr>\n",
       "      <th>date</th>\n",
       "      <th></th>\n",
       "      <th></th>\n",
       "      <th></th>\n",
       "      <th></th>\n",
       "      <th></th>\n",
       "      <th></th>\n",
       "      <th></th>\n",
       "      <th></th>\n",
       "      <th></th>\n",
       "      <th></th>\n",
       "      <th></th>\n",
       "      <th></th>\n",
       "      <th></th>\n",
       "    </tr>\n",
       "  </thead>\n",
       "  <tbody>\n",
       "    <tr>\n",
       "      <th>2018-07</th>\n",
       "      <td>0.0021</td>\n",
       "      <td>-0.0058</td>\n",
       "      <td>0.0093</td>\n",
       "      <td>0.0040</td>\n",
       "      <td>-0.0010</td>\n",
       "      <td>0.0055</td>\n",
       "      <td>0.0022</td>\n",
       "      <td>-0.0014</td>\n",
       "      <td>0.0067</td>\n",
       "      <td>-0.0021</td>\n",
       "      <td>0.0045</td>\n",
       "      <td>-0.0052</td>\n",
       "      <td>0.0018</td>\n",
       "    </tr>\n",
       "    <tr>\n",
       "      <th>2018-08</th>\n",
       "      <td>0.0024</td>\n",
       "      <td>0.0166</td>\n",
       "      <td>0.0002</td>\n",
       "      <td>-0.0277</td>\n",
       "      <td>0.0004</td>\n",
       "      <td>0.0011</td>\n",
       "      <td>0.0017</td>\n",
       "      <td>-0.0007</td>\n",
       "      <td>0.0035</td>\n",
       "      <td>0.0050</td>\n",
       "      <td>-0.0002</td>\n",
       "      <td>-0.0214</td>\n",
       "      <td>0.0015</td>\n",
       "    </tr>\n",
       "    <tr>\n",
       "      <th>2018-09</th>\n",
       "      <td>0.0034</td>\n",
       "      <td>-0.0054</td>\n",
       "      <td>0.0050</td>\n",
       "      <td>-0.0110</td>\n",
       "      <td>-0.0016</td>\n",
       "      <td>0.0032</td>\n",
       "      <td>0.0036</td>\n",
       "      <td>0.0006</td>\n",
       "      <td>-0.0023</td>\n",
       "      <td>0.0028</td>\n",
       "      <td>0.0018</td>\n",
       "      <td>0.0036</td>\n",
       "      <td>-0.0022</td>\n",
       "    </tr>\n",
       "    <tr>\n",
       "      <th>2018-10</th>\n",
       "      <td>-0.0073</td>\n",
       "      <td>-0.0314</td>\n",
       "      <td>-0.0158</td>\n",
       "      <td>-0.0315</td>\n",
       "      <td>-0.0129</td>\n",
       "      <td>-0.0257</td>\n",
       "      <td>-0.0023</td>\n",
       "      <td>-0.0096</td>\n",
       "      <td>-0.0402</td>\n",
       "      <td>-0.0080</td>\n",
       "      <td>-0.0109</td>\n",
       "      <td>0.0237</td>\n",
       "      <td>-0.0269</td>\n",
       "    </tr>\n",
       "    <tr>\n",
       "      <th>2018-11</th>\n",
       "      <td>-0.0068</td>\n",
       "      <td>-0.0053</td>\n",
       "      <td>-0.0193</td>\n",
       "      <td>0.0120</td>\n",
       "      <td>-0.0211</td>\n",
       "      <td>-0.0034</td>\n",
       "      <td>-0.0067</td>\n",
       "      <td>-0.0087</td>\n",
       "      <td>-0.0044</td>\n",
       "      <td>0.0119</td>\n",
       "      <td>-0.0063</td>\n",
       "      <td>-0.0021</td>\n",
       "      <td>-0.0071</td>\n",
       "    </tr>\n",
       "  </tbody>\n",
       "</table>\n",
       "</div>"
      ],
      "text/plain": [
       "         Convertible Arbitrage  CTA Global  Distressed Securities  \\\n",
       "date                                                                \n",
       "2018-07                 0.0021     -0.0058                 0.0093   \n",
       "2018-08                 0.0024      0.0166                 0.0002   \n",
       "2018-09                 0.0034     -0.0054                 0.0050   \n",
       "2018-10                -0.0073     -0.0314                -0.0158   \n",
       "2018-11                -0.0068     -0.0053                -0.0193   \n",
       "\n",
       "         Emerging Markets  Equity Market Neutral  Event Driven  \\\n",
       "date                                                             \n",
       "2018-07            0.0040                -0.0010        0.0055   \n",
       "2018-08           -0.0277                 0.0004        0.0011   \n",
       "2018-09           -0.0110                -0.0016        0.0032   \n",
       "2018-10           -0.0315                -0.0129       -0.0257   \n",
       "2018-11            0.0120                -0.0211       -0.0034   \n",
       "\n",
       "         Fixed Income Arbitrage  Global Macro  Long/Short Equity  \\\n",
       "date                                                               \n",
       "2018-07                  0.0022       -0.0014             0.0067   \n",
       "2018-08                  0.0017       -0.0007             0.0035   \n",
       "2018-09                  0.0036        0.0006            -0.0023   \n",
       "2018-10                 -0.0023       -0.0096            -0.0402   \n",
       "2018-11                 -0.0067       -0.0087            -0.0044   \n",
       "\n",
       "         Merger Arbitrage  Relative Value  Short Selling  Funds Of Funds  \n",
       "date                                                                      \n",
       "2018-07           -0.0021          0.0045        -0.0052          0.0018  \n",
       "2018-08            0.0050         -0.0002        -0.0214          0.0015  \n",
       "2018-09            0.0028          0.0018         0.0036         -0.0022  \n",
       "2018-10           -0.0080         -0.0109         0.0237         -0.0269  \n",
       "2018-11            0.0119         -0.0063        -0.0021         -0.0071  "
      ]
     },
     "execution_count": 74,
     "metadata": {},
     "output_type": "execute_result"
    }
   ],
   "source": [
    "ind.tail()"
   ]
  },
  {
   "cell_type": "code",
   "execution_count": 75,
   "metadata": {},
   "outputs": [
    {
     "data": {
      "text/plain": [
       "Convertible Arbitrage     0.059325\n",
       "CTA Global                0.039409\n",
       "Distressed Securities     0.080837\n",
       "Emerging Markets          0.067518\n",
       "Equity Market Neutral     0.043420\n",
       "Event Driven              0.066692\n",
       "Fixed Income Arbitrage    0.052914\n",
       "Global Macro              0.051394\n",
       "Long/Short Equity         0.054580\n",
       "Merger Arbitrage          0.053831\n",
       "Relative Value            0.062064\n",
       "Short Selling            -0.039184\n",
       "Funds Of Funds            0.034125\n",
       "dtype: float64"
      ]
     },
     "execution_count": 75,
     "metadata": {},
     "output_type": "execute_result"
    }
   ],
   "source": [
    "er"
   ]
  },
  {
   "cell_type": "code",
   "execution_count": 70,
   "metadata": {},
   "outputs": [
    {
     "data": {
      "text/html": [
       "<div>\n",
       "<style scoped>\n",
       "    .dataframe tbody tr th:only-of-type {\n",
       "        vertical-align: middle;\n",
       "    }\n",
       "\n",
       "    .dataframe tbody tr th {\n",
       "        vertical-align: top;\n",
       "    }\n",
       "\n",
       "    .dataframe thead th {\n",
       "        text-align: right;\n",
       "    }\n",
       "</style>\n",
       "<table border=\"1\" class=\"dataframe\">\n",
       "  <thead>\n",
       "    <tr style=\"text-align: right;\">\n",
       "      <th></th>\n",
       "      <th>Convertible Arbitrage</th>\n",
       "      <th>CTA Global</th>\n",
       "      <th>Distressed Securities</th>\n",
       "      <th>Emerging Markets</th>\n",
       "      <th>Equity Market Neutral</th>\n",
       "      <th>Event Driven</th>\n",
       "      <th>Fixed Income Arbitrage</th>\n",
       "      <th>Global Macro</th>\n",
       "      <th>Long/Short Equity</th>\n",
       "      <th>Merger Arbitrage</th>\n",
       "      <th>Relative Value</th>\n",
       "      <th>Short Selling</th>\n",
       "      <th>Funds Of Funds</th>\n",
       "    </tr>\n",
       "  </thead>\n",
       "  <tbody>\n",
       "    <tr>\n",
       "      <th>Convertible Arbitrage</th>\n",
       "      <td>0.000294</td>\n",
       "      <td>0.000003</td>\n",
       "      <td>0.000206</td>\n",
       "      <td>0.000306</td>\n",
       "      <td>0.000067</td>\n",
       "      <td>0.000199</td>\n",
       "      <td>0.000149</td>\n",
       "      <td>0.000087</td>\n",
       "      <td>0.000200</td>\n",
       "      <td>0.000082</td>\n",
       "      <td>0.000167</td>\n",
       "      <td>-0.000275</td>\n",
       "      <td>0.000159</td>\n",
       "    </tr>\n",
       "    <tr>\n",
       "      <th>CTA Global</th>\n",
       "      <td>0.000003</td>\n",
       "      <td>0.000538</td>\n",
       "      <td>0.000013</td>\n",
       "      <td>0.000066</td>\n",
       "      <td>0.000038</td>\n",
       "      <td>0.000023</td>\n",
       "      <td>0.000012</td>\n",
       "      <td>0.000188</td>\n",
       "      <td>0.000058</td>\n",
       "      <td>0.000019</td>\n",
       "      <td>0.000016</td>\n",
       "      <td>0.000096</td>\n",
       "      <td>0.000081</td>\n",
       "    </tr>\n",
       "    <tr>\n",
       "      <th>Distressed Securities</th>\n",
       "      <td>0.000206</td>\n",
       "      <td>0.000013</td>\n",
       "      <td>0.000269</td>\n",
       "      <td>0.000357</td>\n",
       "      <td>0.000077</td>\n",
       "      <td>0.000236</td>\n",
       "      <td>0.000126</td>\n",
       "      <td>0.000109</td>\n",
       "      <td>0.000243</td>\n",
       "      <td>0.000081</td>\n",
       "      <td>0.000160</td>\n",
       "      <td>-0.000394</td>\n",
       "      <td>0.000185</td>\n",
       "    </tr>\n",
       "    <tr>\n",
       "      <th>Emerging Markets</th>\n",
       "      <td>0.000306</td>\n",
       "      <td>0.000066</td>\n",
       "      <td>0.000357</td>\n",
       "      <td>0.000758</td>\n",
       "      <td>0.000117</td>\n",
       "      <td>0.000364</td>\n",
       "      <td>0.000184</td>\n",
       "      <td>0.000232</td>\n",
       "      <td>0.000453</td>\n",
       "      <td>0.000136</td>\n",
       "      <td>0.000271</td>\n",
       "      <td>-0.000761</td>\n",
       "      <td>0.000329</td>\n",
       "    </tr>\n",
       "    <tr>\n",
       "      <th>Equity Market Neutral</th>\n",
       "      <td>0.000067</td>\n",
       "      <td>0.000038</td>\n",
       "      <td>0.000077</td>\n",
       "      <td>0.000117</td>\n",
       "      <td>0.000063</td>\n",
       "      <td>0.000076</td>\n",
       "      <td>0.000039</td>\n",
       "      <td>0.000050</td>\n",
       "      <td>0.000094</td>\n",
       "      <td>0.000032</td>\n",
       "      <td>0.000056</td>\n",
       "      <td>-0.000100</td>\n",
       "      <td>0.000073</td>\n",
       "    </tr>\n",
       "    <tr>\n",
       "      <th>Event Driven</th>\n",
       "      <td>0.000199</td>\n",
       "      <td>0.000023</td>\n",
       "      <td>0.000236</td>\n",
       "      <td>0.000364</td>\n",
       "      <td>0.000076</td>\n",
       "      <td>0.000246</td>\n",
       "      <td>0.000114</td>\n",
       "      <td>0.000118</td>\n",
       "      <td>0.000270</td>\n",
       "      <td>0.000102</td>\n",
       "      <td>0.000166</td>\n",
       "      <td>-0.000439</td>\n",
       "      <td>0.000193</td>\n",
       "    </tr>\n",
       "    <tr>\n",
       "      <th>Fixed Income Arbitrage</th>\n",
       "      <td>0.000149</td>\n",
       "      <td>0.000012</td>\n",
       "      <td>0.000126</td>\n",
       "      <td>0.000184</td>\n",
       "      <td>0.000039</td>\n",
       "      <td>0.000114</td>\n",
       "      <td>0.000106</td>\n",
       "      <td>0.000057</td>\n",
       "      <td>0.000112</td>\n",
       "      <td>0.000042</td>\n",
       "      <td>0.000095</td>\n",
       "      <td>-0.000145</td>\n",
       "      <td>0.000094</td>\n",
       "    </tr>\n",
       "    <tr>\n",
       "      <th>Global Macro</th>\n",
       "      <td>0.000087</td>\n",
       "      <td>0.000188</td>\n",
       "      <td>0.000109</td>\n",
       "      <td>0.000232</td>\n",
       "      <td>0.000050</td>\n",
       "      <td>0.000118</td>\n",
       "      <td>0.000057</td>\n",
       "      <td>0.000155</td>\n",
       "      <td>0.000164</td>\n",
       "      <td>0.000051</td>\n",
       "      <td>0.000085</td>\n",
       "      <td>-0.000191</td>\n",
       "      <td>0.000133</td>\n",
       "    </tr>\n",
       "    <tr>\n",
       "      <th>Long/Short Equity</th>\n",
       "      <td>0.000200</td>\n",
       "      <td>0.000058</td>\n",
       "      <td>0.000243</td>\n",
       "      <td>0.000453</td>\n",
       "      <td>0.000094</td>\n",
       "      <td>0.000270</td>\n",
       "      <td>0.000112</td>\n",
       "      <td>0.000164</td>\n",
       "      <td>0.000360</td>\n",
       "      <td>0.000115</td>\n",
       "      <td>0.000189</td>\n",
       "      <td>-0.000609</td>\n",
       "      <td>0.000242</td>\n",
       "    </tr>\n",
       "    <tr>\n",
       "      <th>Merger Arbitrage</th>\n",
       "      <td>0.000082</td>\n",
       "      <td>0.000019</td>\n",
       "      <td>0.000081</td>\n",
       "      <td>0.000136</td>\n",
       "      <td>0.000032</td>\n",
       "      <td>0.000102</td>\n",
       "      <td>0.000042</td>\n",
       "      <td>0.000051</td>\n",
       "      <td>0.000115</td>\n",
       "      <td>0.000073</td>\n",
       "      <td>0.000071</td>\n",
       "      <td>-0.000167</td>\n",
       "      <td>0.000080</td>\n",
       "    </tr>\n",
       "    <tr>\n",
       "      <th>Relative Value</th>\n",
       "      <td>0.000167</td>\n",
       "      <td>0.000016</td>\n",
       "      <td>0.000160</td>\n",
       "      <td>0.000271</td>\n",
       "      <td>0.000056</td>\n",
       "      <td>0.000166</td>\n",
       "      <td>0.000095</td>\n",
       "      <td>0.000085</td>\n",
       "      <td>0.000189</td>\n",
       "      <td>0.000071</td>\n",
       "      <td>0.000132</td>\n",
       "      <td>-0.000293</td>\n",
       "      <td>0.000136</td>\n",
       "    </tr>\n",
       "    <tr>\n",
       "      <th>Short Selling</th>\n",
       "      <td>-0.000275</td>\n",
       "      <td>0.000096</td>\n",
       "      <td>-0.000394</td>\n",
       "      <td>-0.000761</td>\n",
       "      <td>-0.000100</td>\n",
       "      <td>-0.000439</td>\n",
       "      <td>-0.000145</td>\n",
       "      <td>-0.000191</td>\n",
       "      <td>-0.000609</td>\n",
       "      <td>-0.000167</td>\n",
       "      <td>-0.000293</td>\n",
       "      <td>0.001845</td>\n",
       "      <td>-0.000373</td>\n",
       "    </tr>\n",
       "    <tr>\n",
       "      <th>Funds Of Funds</th>\n",
       "      <td>0.000159</td>\n",
       "      <td>0.000081</td>\n",
       "      <td>0.000185</td>\n",
       "      <td>0.000329</td>\n",
       "      <td>0.000073</td>\n",
       "      <td>0.000193</td>\n",
       "      <td>0.000094</td>\n",
       "      <td>0.000133</td>\n",
       "      <td>0.000242</td>\n",
       "      <td>0.000080</td>\n",
       "      <td>0.000136</td>\n",
       "      <td>-0.000373</td>\n",
       "      <td>0.000193</td>\n",
       "    </tr>\n",
       "  </tbody>\n",
       "</table>\n",
       "</div>"
      ],
      "text/plain": [
       "                        Convertible Arbitrage  CTA Global  \\\n",
       "Convertible Arbitrage                0.000294    0.000003   \n",
       "CTA Global                           0.000003    0.000538   \n",
       "Distressed Securities                0.000206    0.000013   \n",
       "Emerging Markets                     0.000306    0.000066   \n",
       "Equity Market Neutral                0.000067    0.000038   \n",
       "Event Driven                         0.000199    0.000023   \n",
       "Fixed Income Arbitrage               0.000149    0.000012   \n",
       "Global Macro                         0.000087    0.000188   \n",
       "Long/Short Equity                    0.000200    0.000058   \n",
       "Merger Arbitrage                     0.000082    0.000019   \n",
       "Relative Value                       0.000167    0.000016   \n",
       "Short Selling                       -0.000275    0.000096   \n",
       "Funds Of Funds                       0.000159    0.000081   \n",
       "\n",
       "                        Distressed Securities  Emerging Markets  \\\n",
       "Convertible Arbitrage                0.000206          0.000306   \n",
       "CTA Global                           0.000013          0.000066   \n",
       "Distressed Securities                0.000269          0.000357   \n",
       "Emerging Markets                     0.000357          0.000758   \n",
       "Equity Market Neutral                0.000077          0.000117   \n",
       "Event Driven                         0.000236          0.000364   \n",
       "Fixed Income Arbitrage               0.000126          0.000184   \n",
       "Global Macro                         0.000109          0.000232   \n",
       "Long/Short Equity                    0.000243          0.000453   \n",
       "Merger Arbitrage                     0.000081          0.000136   \n",
       "Relative Value                       0.000160          0.000271   \n",
       "Short Selling                       -0.000394         -0.000761   \n",
       "Funds Of Funds                       0.000185          0.000329   \n",
       "\n",
       "                        Equity Market Neutral  Event Driven  \\\n",
       "Convertible Arbitrage                0.000067      0.000199   \n",
       "CTA Global                           0.000038      0.000023   \n",
       "Distressed Securities                0.000077      0.000236   \n",
       "Emerging Markets                     0.000117      0.000364   \n",
       "Equity Market Neutral                0.000063      0.000076   \n",
       "Event Driven                         0.000076      0.000246   \n",
       "Fixed Income Arbitrage               0.000039      0.000114   \n",
       "Global Macro                         0.000050      0.000118   \n",
       "Long/Short Equity                    0.000094      0.000270   \n",
       "Merger Arbitrage                     0.000032      0.000102   \n",
       "Relative Value                       0.000056      0.000166   \n",
       "Short Selling                       -0.000100     -0.000439   \n",
       "Funds Of Funds                       0.000073      0.000193   \n",
       "\n",
       "                        Fixed Income Arbitrage  Global Macro  \\\n",
       "Convertible Arbitrage                 0.000149      0.000087   \n",
       "CTA Global                            0.000012      0.000188   \n",
       "Distressed Securities                 0.000126      0.000109   \n",
       "Emerging Markets                      0.000184      0.000232   \n",
       "Equity Market Neutral                 0.000039      0.000050   \n",
       "Event Driven                          0.000114      0.000118   \n",
       "Fixed Income Arbitrage                0.000106      0.000057   \n",
       "Global Macro                          0.000057      0.000155   \n",
       "Long/Short Equity                     0.000112      0.000164   \n",
       "Merger Arbitrage                      0.000042      0.000051   \n",
       "Relative Value                        0.000095      0.000085   \n",
       "Short Selling                        -0.000145     -0.000191   \n",
       "Funds Of Funds                        0.000094      0.000133   \n",
       "\n",
       "                        Long/Short Equity  Merger Arbitrage  Relative Value  \\\n",
       "Convertible Arbitrage            0.000200          0.000082        0.000167   \n",
       "CTA Global                       0.000058          0.000019        0.000016   \n",
       "Distressed Securities            0.000243          0.000081        0.000160   \n",
       "Emerging Markets                 0.000453          0.000136        0.000271   \n",
       "Equity Market Neutral            0.000094          0.000032        0.000056   \n",
       "Event Driven                     0.000270          0.000102        0.000166   \n",
       "Fixed Income Arbitrage           0.000112          0.000042        0.000095   \n",
       "Global Macro                     0.000164          0.000051        0.000085   \n",
       "Long/Short Equity                0.000360          0.000115        0.000189   \n",
       "Merger Arbitrage                 0.000115          0.000073        0.000071   \n",
       "Relative Value                   0.000189          0.000071        0.000132   \n",
       "Short Selling                   -0.000609         -0.000167       -0.000293   \n",
       "Funds Of Funds                   0.000242          0.000080        0.000136   \n",
       "\n",
       "                        Short Selling  Funds Of Funds  \n",
       "Convertible Arbitrage       -0.000275        0.000159  \n",
       "CTA Global                   0.000096        0.000081  \n",
       "Distressed Securities       -0.000394        0.000185  \n",
       "Emerging Markets            -0.000761        0.000329  \n",
       "Equity Market Neutral       -0.000100        0.000073  \n",
       "Event Driven                -0.000439        0.000193  \n",
       "Fixed Income Arbitrage      -0.000145        0.000094  \n",
       "Global Macro                -0.000191        0.000133  \n",
       "Long/Short Equity           -0.000609        0.000242  \n",
       "Merger Arbitrage            -0.000167        0.000080  \n",
       "Relative Value              -0.000293        0.000136  \n",
       "Short Selling                0.001845       -0.000373  \n",
       "Funds Of Funds              -0.000373        0.000193  "
      ]
     },
     "execution_count": 70,
     "metadata": {},
     "output_type": "execute_result"
    }
   ],
   "source": [
    "cov"
   ]
  },
  {
   "cell_type": "code",
   "execution_count": 80,
   "metadata": {},
   "outputs": [
    {
     "data": {
      "text/plain": [
       "0.0"
      ]
     },
     "execution_count": 80,
     "metadata": {},
     "output_type": "execute_result"
    }
   ],
   "source": [
    "round(ash.var_gaussian(er, level = 1),1)"
   ]
  },
  {
   "cell_type": "code",
   "execution_count": 81,
   "metadata": {},
   "outputs": [
    {
     "data": {
      "text/plain": [
       "0.04"
      ]
     },
     "execution_count": 81,
     "metadata": {},
     "output_type": "execute_result"
    }
   ],
   "source": [
    "round(ash.var_gaussian(er, level = 1,modified=True),2)"
   ]
  },
  {
   "cell_type": "code",
   "execution_count": 79,
   "metadata": {},
   "outputs": [
    {
     "data": {
      "text/plain": [
       "0.03"
      ]
     },
     "execution_count": 79,
     "metadata": {},
     "output_type": "execute_result"
    }
   ],
   "source": [
    "round(ash.var_historic(er, level = 1),3)\n"
   ]
  },
  {
   "cell_type": "code",
   "execution_count": 17,
   "metadata": {},
   "outputs": [],
   "source": [
    "n_ind = ash.get_idx_returns()\n",
    "n_er = ash.annualize_rets(n_ind[\"2013\":\"2017\"],12)\n",
    "n_cov = n_ind[\"2013\":\"2017\"].cov()\n"
   ]
  },
  {
   "cell_type": "code",
   "execution_count": 18,
   "metadata": {},
   "outputs": [
    {
     "data": {
      "text/plain": [
       "array([4.51375048e-15, 1.00000000e+00, 1.40512602e-16, 0.00000000e+00])"
      ]
     },
     "execution_count": 18,
     "metadata": {},
     "output_type": "execute_result"
    }
   ],
   "source": [
    "l = ['Books','Steel', 'Oil','Mines']\n",
    "\n",
    "ash.msr(0.1,n_er[l],n_cov.loc[l,l])"
   ]
  },
  {
   "cell_type": "code",
   "execution_count": 22,
   "metadata": {},
   "outputs": [
    {
     "data": {
      "text/plain": [
       "<matplotlib.axes._subplots.AxesSubplot at 0x7ff8403dafd0>"
      ]
     },
     "execution_count": 22,
     "metadata": {},
     "output_type": "execute_result"
    },
    {
     "data": {
      "image/png": "[encoded data removed]",
      "text/plain": [
       "<Figure size 1080x504 with 1 Axes>"
      ]
     },
     "metadata": {
      "needs_background": "light"
     },
     "output_type": "display_data"
    }
   ],
   "source": [
    "ash.plot_ef(100,n_er[l], n_cov.loc[l,l],show_cml=True,show_ew=True, show_gmv=True)"
   ]
  },
  {
   "cell_type": "code",
   "execution_count": 62,
   "metadata": {},
   "outputs": [
    {
     "data": {
      "text/plain": [
       "1.0"
      ]
     },
     "execution_count": 62,
     "metadata": {},
     "output_type": "execute_result"
    }
   ],
   "source": [
    "round(ash.msr(0.1,n_er[l],n_cov.loc[l,l])[1],10)"
   ]
  },
  {
   "cell_type": "code",
   "execution_count": 26,
   "metadata": {},
   "outputs": [
    {
     "data": {
      "text/plain": [
       "Books    0.095312\n",
       "Steel    0.100716\n",
       "Oil      0.025275\n",
       "Mines    0.005136\n",
       "dtype: float64"
      ]
     },
     "execution_count": 26,
     "metadata": {},
     "output_type": "execute_result"
    }
   ],
   "source": [
    "er4= n_er[l]\n",
    "er4"
   ]
  },
  {
   "cell_type": "code",
   "execution_count": 28,
   "metadata": {},
   "outputs": [
    {
     "data": {
      "text/html": [
       "<div>\n",
       "<style scoped>\n",
       "    .dataframe tbody tr th:only-of-type {\n",
       "        vertical-align: middle;\n",
       "    }\n",
       "\n",
       "    .dataframe tbody tr th {\n",
       "        vertical-align: top;\n",
       "    }\n",
       "\n",
       "    .dataframe thead th {\n",
       "        text-align: right;\n",
       "    }\n",
       "</style>\n",
       "<table border=\"1\" class=\"dataframe\">\n",
       "  <thead>\n",
       "    <tr style=\"text-align: right;\">\n",
       "      <th></th>\n",
       "      <th>Books</th>\n",
       "      <th>Steel</th>\n",
       "      <th>Oil</th>\n",
       "      <th>Mines</th>\n",
       "    </tr>\n",
       "  </thead>\n",
       "  <tbody>\n",
       "    <tr>\n",
       "      <th>Books</th>\n",
       "      <td>0.002720</td>\n",
       "      <td>0.001940</td>\n",
       "      <td>0.001637</td>\n",
       "      <td>0.001539</td>\n",
       "    </tr>\n",
       "    <tr>\n",
       "      <th>Steel</th>\n",
       "      <td>0.001940</td>\n",
       "      <td>0.004391</td>\n",
       "      <td>0.002122</td>\n",
       "      <td>0.003391</td>\n",
       "    </tr>\n",
       "    <tr>\n",
       "      <th>Oil</th>\n",
       "      <td>0.001637</td>\n",
       "      <td>0.002122</td>\n",
       "      <td>0.002697</td>\n",
       "      <td>0.002179</td>\n",
       "    </tr>\n",
       "    <tr>\n",
       "      <th>Mines</th>\n",
       "      <td>0.001539</td>\n",
       "      <td>0.003391</td>\n",
       "      <td>0.002179</td>\n",
       "      <td>0.005232</td>\n",
       "    </tr>\n",
       "  </tbody>\n",
       "</table>\n",
       "</div>"
      ],
      "text/plain": [
       "          Books     Steel       Oil     Mines\n",
       "Books  0.002720  0.001940  0.001637  0.001539\n",
       "Steel  0.001940  0.004391  0.002122  0.003391\n",
       "Oil    0.001637  0.002122  0.002697  0.002179\n",
       "Mines  0.001539  0.003391  0.002179  0.005232"
      ]
     },
     "execution_count": 28,
     "metadata": {},
     "output_type": "execute_result"
    }
   ],
   "source": [
    "cov4 = n_cov.loc[l,l]\n",
    "cov4"
   ]
  },
  {
   "cell_type": "code",
   "execution_count": 31,
   "metadata": {},
   "outputs": [
    {
     "data": {
      "text/plain": [
       "1.0"
      ]
     },
     "execution_count": 31,
     "metadata": {},
     "output_type": "execute_result"
    }
   ],
   "source": [
    "round(ash.msr(0.1,er4,cov4)[1],2)"
   ]
  },
  {
   "cell_type": "code",
   "execution_count": 32,
   "metadata": {},
   "outputs": [
    {
     "data": {
      "text/plain": [
       "array([0., 1., 0., 0.])"
      ]
     },
     "execution_count": 32,
     "metadata": {},
     "output_type": "execute_result"
    }
   ],
   "source": [
    "np.round(ash.msr(0.1,er4,cov4),2)"
   ]
  },
  {
   "cell_type": "code",
   "execution_count": 49,
   "metadata": {},
   "outputs": [
    {
     "data": {
      "text/plain": [
       "array([0.477 , 0.    , 0.4341, 0.0889])"
      ]
     },
     "execution_count": 49,
     "metadata": {},
     "output_type": "execute_result"
    }
   ],
   "source": [
    "np.round(ash.gmv(cov4),4)"
   ]
  },
  {
   "cell_type": "code",
   "execution_count": 35,
   "metadata": {},
   "outputs": [],
   "source": [
    "msr_w = ash.msr(0.1,er4,cov4)"
   ]
  },
  {
   "cell_type": "code",
   "execution_count": 66,
   "metadata": {},
   "outputs": [
    {
     "name": "stdout",
     "output_type": "stream",
     "text": [
      "          Books     Steel       Oil     Mines\n",
      "Books  0.002799  0.002098  0.002558  0.001629\n",
      "Steel  0.002098  0.004027  0.003473  0.001843\n",
      "Oil    0.002558  0.003473  0.005296  0.001961\n",
      "Mines  0.001629  0.001843  0.001961  0.002059 \n",
      " 0.0635 \n",
      " 0.2198 \n",
      " 0.18\n"
     ]
    }
   ],
   "source": [
    "idx_18 = ash.get_idx_returns()['2018'][l]\n",
    "r_18 = ash.annualize_rets(idx_18,12)\n",
    "cov_18 = idx_18.cov()\n",
    "print(cov_18, \"\\n\",\n",
    "      round(ash.portfolio_vol(msr_w,cov_18),4),\"\\n\", \n",
    "      round(ash.portfolio_vol(msr_w,cov_18)*(12**0.5),4),\"\\n\", \n",
    "      round(ash.annualize_vol(r_18,12),2))"
   ]
  },
  {
   "cell_type": "code",
   "execution_count": 46,
   "metadata": {},
   "outputs": [
    {
     "data": {
      "text/plain": [
       "array([4.77024870e-01, 4.33680869e-19, 4.34112024e-01, 8.88631053e-02])"
      ]
     },
     "execution_count": 46,
     "metadata": {},
     "output_type": "execute_result"
    }
   ],
   "source": [
    "gmv_w = ash.gmv(cov4)\n",
    "gmv_w"
   ]
  },
  {
   "cell_type": "code",
   "execution_count": 67,
   "metadata": {},
   "outputs": [
    {
     "name": "stdout",
     "output_type": "stream",
     "text": [
      "          Books     Steel       Oil     Mines\n",
      "Books  0.002799  0.002098  0.002558  0.001629\n",
      "Steel  0.002098  0.004027  0.003473  0.001843\n",
      "Oil    0.002558  0.003473  0.005296  0.001961\n",
      "Mines  0.001629  0.001843  0.001961  0.002059 \n",
      " 0.0548 \n",
      " 0.1897 \n",
      " 0.18\n"
     ]
    }
   ],
   "source": [
    "idx_18 = ash.get_idx_returns()['2018'][l]\n",
    "r_18 = ash.annualize_rets(idx_18,12)\n",
    "cov_18 = idx_18.cov()\n",
    "print(cov_18,\n",
    "      \"\\n\",round(ash.portfolio_vol(gmv_w,cov_18),4),\n",
    "      \"\\n\",round(ash.portfolio_vol(gmv_w,cov_18)*(12**0.5),4),\n",
    "      \"\\n\", round(ash.annualize_vol(r_18,12),2))"
   ]
  },
  {
   "cell_type": "code",
   "execution_count": 63,
   "metadata": {},
   "outputs": [
    {
     "data": {
      "text/plain": [
       "Books   -0.252523\n",
       "Steel   -0.273127\n",
       "Oil     -0.181373\n",
       "Mines   -0.307972\n",
       "dtype: float64"
      ]
     },
     "execution_count": 63,
     "metadata": {},
     "output_type": "execute_result"
    }
   ],
   "source": [
    "r_18"
   ]
  },
  {
   "cell_type": "code",
   "execution_count": null,
   "metadata": {},
   "outputs": [],
   "source": [
    "ash.portfolio_vol()"
   ]
  }
 ],
 "metadata": {
  "kernelspec": {
   "display_name": "Python 3",
   "language": "python",
   "name": "python3"
  },
  "language_info": {
   "codemirror_mode": {
    "name": "ipython",
    "version": 3
   },
   "file_extension": ".py",
   "mimetype": "text/x-python",
   "name": "python",
   "nbconvert_exporter": "python",
   "pygments_lexer": "ipython3",
   "version": "3.7.6"
  }
 },
 "nbformat": 4,
 "nbformat_minor": 4
}
